{
 "cells": [
  {
   "cell_type": "code",
   "execution_count": 1,
   "metadata": {},
   "outputs": [],
   "source": [
    "import pandas as pd\n",
    "import geonamescache\n",
    "import unidecode\n",
    "import re\n",
    "gc = geonamescache.GeonamesCache()"
   ]
  },
  {
   "cell_type": "markdown",
   "metadata": {},
   "source": [
    "Load dataframe of city/country matches and remove any headlines with no matches and removing any cities matching 'of'.\n",
    "As you can see below, this leaves us with 612 headlines matched."
   ]
  },
  {
   "cell_type": "raw",
   "metadata": {},
   "source": [
    "df = pd.read_csv('data/df1.csv', sep=';', header=0, usecols=['headline', 'city', 'country'], index_col=0)"
   ]
  },
  {
   "cell_type": "code",
   "execution_count": 2,
   "metadata": {},
   "outputs": [],
   "source": [
    "df = pd.read_csv('data/df1.csv', sep=';', header=0, usecols=['headline', 'city', 'country'], index_col=False)"
   ]
  },
  {
   "cell_type": "code",
   "execution_count": 3,
   "metadata": {},
   "outputs": [],
   "source": [
    "df2 = df[(df['city'] != 'of') & (df['city'].notnull()) | (df['country'].notnull())]"
   ]
  },
  {
   "cell_type": "code",
   "execution_count": 4,
   "metadata": {},
   "outputs": [],
   "source": [
    "df2.reset_index(drop=True, inplace=True)"
   ]
  },
  {
   "cell_type": "markdown",
   "metadata": {},
   "source": [
    "After further inspection of the the country column, very few have been matched and the ones that have matched, have city matches too so this column is redundant for analysis purposes.  Later we will remove this column and add 3 further columns for longitude, latitude and country code which are available in the geonamescache.get_cities() dictionary"
   ]
  },
  {
   "cell_type": "markdown",
   "metadata": {},
   "source": [
    "Another stumbling block is city names with diacritics.\n",
    "Using the unidecode versions of city names in the get_cities_by_names() method will fail.\n",
    "\n",
    "To get around this, it is proposed that a dictionary of all diacritic names could be made from gc.get_cities() and then all unidecode names can be mapped back to the original name. "
   ]
  },
  {
   "cell_type": "code",
   "execution_count": 5,
   "metadata": {},
   "outputs": [],
   "source": [
    "diacritics = {}\n",
    "cities = gc.get_cities()"
   ]
  },
  {
   "cell_type": "code",
   "execution_count": 6,
   "metadata": {},
   "outputs": [],
   "source": [
    "for city in cities:\n",
    "    original = cities[city]['name'] \n",
    "    decode = unidecode.unidecode(cities[city]['name'])\n",
    "    if original != decode:\n",
    "        diacritics[decode]=original"
   ]
  },
  {
   "cell_type": "code",
   "execution_count": 7,
   "metadata": {},
   "outputs": [],
   "source": [
    "# to confirm how many diacritics we have found !\n",
    "#print(diacritics)"
   ]
  },
  {
   "cell_type": "code",
   "execution_count": 8,
   "metadata": {},
   "outputs": [
    {
     "name": "stdout",
     "output_type": "stream",
     "text": [
      "Durrës\n"
     ]
    }
   ],
   "source": [
    "print(diacritics['Durres'])"
   ]
  },
  {
   "cell_type": "code",
   "execution_count": 9,
   "metadata": {},
   "outputs": [],
   "source": [
    "geoLocationData = {'latitude': [], 'longitude': [], 'countrycode': []}"
   ]
  },
  {
   "cell_type": "markdown",
   "metadata": {},
   "source": [
    "Now that we have taken care of the accented names we are in a good position to gather the geo location data\n",
    "\n",
    "After defining a new dictionary as a placeholder for each city info, al loop is required to go through each city and extract the required data. \n",
    "\n",
    "The method used will be to use gc.get_cities_by_name(), but some city names are common and any may appear more than once in the list.\n",
    "\n",
    "This means we will have to assume that the headline city will be the most populated city and hence the city with the greatest population size will be used in this instance.\n",
    "\n",
    "To determine which city has the maximum size a function will be defined outside the loop to make the code cleaner.\n"
   ]
  },
  {
   "cell_type": "code",
   "execution_count": 10,
   "metadata": {},
   "outputs": [],
   "source": [
    "def gatherCityInfo(name):\n",
    "    #clist = name.strip('[]').replace(\"\\'\", \"\").asplit(',')\n",
    "    #for item in clist:\n",
    "    try:\n",
    "        bestCity = max(gc.get_cities_by_name(name), key=lambda x: list(x.values())[0]['population'])\n",
    "        data = [list(bestCity.values())[0]['latitude'], list(bestCity.values())[0]['longitude'], list(bestCity.values())[0]['countrycode']]\n",
    "        return data\n",
    "    except:\n",
    "        return [\"NaN\", \"NaN\", \"NaN\"]"
   ]
  },
  {
   "cell_type": "code",
   "execution_count": 11,
   "metadata": {},
   "outputs": [],
   "source": [
    "n = 0\n",
    "for city in df2['city']:\n",
    "    info = gatherCityInfo(city)\n",
    "    if info == [\"NaN\", \"NaN\", \"NaN\"]:\n",
    "        try:\n",
    "            info = gatherCityInfo(diacritics[city])\n",
    "            # this will add the orginal city name with accent marks to datafram...\n",
    "            # remove next two lines if city name needed without diacritics\n",
    "            #print(diacritics[city], info)\n",
    "            n += 1\n",
    "            geoLocationData['latitude'].append(info[0])\n",
    "            geoLocationData['longitude'].append(info[1])\n",
    "            geoLocationData['countrycode'].append(info[2])\n",
    "            continue\n",
    "        except:\n",
    "            n += 1\n",
    "            geoLocationData['latitude'].append(info[0])\n",
    "            geoLocationData['longitude'].append(info[1])\n",
    "            geoLocationData['countrycode'].append(info[2])\n",
    "            continue\n",
    "            #print(n, city, info)\n",
    "    #print(n, city, info)\n",
    "    n += 1\n",
    "    geoLocationData['latitude'].append(info[0])\n",
    "    geoLocationData['longitude'].append(info[1])\n",
    "    geoLocationData['countrycode'].append(info[2])"
   ]
  },
  {
   "cell_type": "markdown",
   "metadata": {},
   "source": [
    "Once we have extracted as many city geo-location data a possible, we should create a pandas dataframe from the geoLacation dictionary"
   ]
  },
  {
   "cell_type": "code",
   "execution_count": 12,
   "metadata": {},
   "outputs": [],
   "source": [
    "dfLocation = pd.DataFrame(geoLocationData)"
   ]
  },
  {
   "cell_type": "code",
   "execution_count": 13,
   "metadata": {},
   "outputs": [],
   "source": [
    "df3 = df2.drop(['country'], axis=1)"
   ]
  },
  {
   "cell_type": "markdown",
   "metadata": {},
   "source": [
    "Merging the two dataframes gives us..."
   ]
  },
  {
   "cell_type": "code",
   "execution_count": 14,
   "metadata": {},
   "outputs": [
    {
     "data": {
      "text/html": [
       "<div>\n",
       "<style scoped>\n",
       "    .dataframe tbody tr th:only-of-type {\n",
       "        vertical-align: middle;\n",
       "    }\n",
       "\n",
       "    .dataframe tbody tr th {\n",
       "        vertical-align: top;\n",
       "    }\n",
       "\n",
       "    .dataframe thead th {\n",
       "        text-align: right;\n",
       "    }\n",
       "</style>\n",
       "<table border=\"1\" class=\"dataframe\">\n",
       "  <thead>\n",
       "    <tr style=\"text-align: right;\">\n",
       "      <th></th>\n",
       "      <th>headline</th>\n",
       "      <th>city</th>\n",
       "      <th>latitude</th>\n",
       "      <th>longitude</th>\n",
       "      <th>countrycode</th>\n",
       "    </tr>\n",
       "  </thead>\n",
       "  <tbody>\n",
       "    <tr>\n",
       "      <th>0</th>\n",
       "      <td>Zika Outbreak Hits Miami</td>\n",
       "      <td>Miami</td>\n",
       "      <td>25.7743</td>\n",
       "      <td>-80.1937</td>\n",
       "      <td>US</td>\n",
       "    </tr>\n",
       "    <tr>\n",
       "      <th>1</th>\n",
       "      <td>Could Zika Reach New York City?</td>\n",
       "      <td>New York City</td>\n",
       "      <td>40.7143</td>\n",
       "      <td>-74.006</td>\n",
       "      <td>US</td>\n",
       "    </tr>\n",
       "    <tr>\n",
       "      <th>2</th>\n",
       "      <td>First Case of Zika in Miami Beach</td>\n",
       "      <td>Miami Beach</td>\n",
       "      <td>25.7906</td>\n",
       "      <td>-80.13</td>\n",
       "      <td>US</td>\n",
       "    </tr>\n",
       "    <tr>\n",
       "      <th>3</th>\n",
       "      <td>Mystery Virus Spreads in Recife, Brazil</td>\n",
       "      <td>Recife</td>\n",
       "      <td>-8.05389</td>\n",
       "      <td>-34.8811</td>\n",
       "      <td>BR</td>\n",
       "    </tr>\n",
       "    <tr>\n",
       "      <th>4</th>\n",
       "      <td>Dallas man comes down with case of Zika</td>\n",
       "      <td>Dallas</td>\n",
       "      <td>32.7831</td>\n",
       "      <td>-96.8067</td>\n",
       "      <td>US</td>\n",
       "    </tr>\n",
       "    <tr>\n",
       "      <th>...</th>\n",
       "      <td>...</td>\n",
       "      <td>...</td>\n",
       "      <td>...</td>\n",
       "      <td>...</td>\n",
       "      <td>...</td>\n",
       "    </tr>\n",
       "    <tr>\n",
       "      <th>608</th>\n",
       "      <td>Rumors about Rabies spreading in Jerusalem hav...</td>\n",
       "      <td>Jerusalem</td>\n",
       "      <td>31.769</td>\n",
       "      <td>35.2163</td>\n",
       "      <td>IL</td>\n",
       "    </tr>\n",
       "    <tr>\n",
       "      <th>609</th>\n",
       "      <td>More Zika patients reported in Indang</td>\n",
       "      <td>Indang</td>\n",
       "      <td>14.1953</td>\n",
       "      <td>120.877</td>\n",
       "      <td>PH</td>\n",
       "    </tr>\n",
       "    <tr>\n",
       "      <th>610</th>\n",
       "      <td>Suva authorities confirmed the spread of Rotav...</td>\n",
       "      <td>Suva</td>\n",
       "      <td>-18.1416</td>\n",
       "      <td>178.441</td>\n",
       "      <td>FJ</td>\n",
       "    </tr>\n",
       "    <tr>\n",
       "      <th>611</th>\n",
       "      <td>More Zika patients reported in Bella Vista</td>\n",
       "      <td>Bella Vista</td>\n",
       "      <td>18.4554</td>\n",
       "      <td>-69.9454</td>\n",
       "      <td>DO</td>\n",
       "    </tr>\n",
       "    <tr>\n",
       "      <th>612</th>\n",
       "      <td>Zika Outbreak in Wichita Falls</td>\n",
       "      <td>Wichita Falls</td>\n",
       "      <td>33.9137</td>\n",
       "      <td>-98.4934</td>\n",
       "      <td>US</td>\n",
       "    </tr>\n",
       "  </tbody>\n",
       "</table>\n",
       "<p>613 rows × 5 columns</p>\n",
       "</div>"
      ],
      "text/plain": [
       "                                              headline           city  \\\n",
       "0                             Zika Outbreak Hits Miami          Miami   \n",
       "1                      Could Zika Reach New York City?  New York City   \n",
       "2                    First Case of Zika in Miami Beach    Miami Beach   \n",
       "3              Mystery Virus Spreads in Recife, Brazil         Recife   \n",
       "4              Dallas man comes down with case of Zika         Dallas   \n",
       "..                                                 ...            ...   \n",
       "608  Rumors about Rabies spreading in Jerusalem hav...      Jerusalem   \n",
       "609              More Zika patients reported in Indang         Indang   \n",
       "610  Suva authorities confirmed the spread of Rotav...           Suva   \n",
       "611         More Zika patients reported in Bella Vista    Bella Vista   \n",
       "612                     Zika Outbreak in Wichita Falls  Wichita Falls   \n",
       "\n",
       "    latitude longitude countrycode  \n",
       "0    25.7743  -80.1937          US  \n",
       "1    40.7143   -74.006          US  \n",
       "2    25.7906    -80.13          US  \n",
       "3   -8.05389  -34.8811          BR  \n",
       "4    32.7831  -96.8067          US  \n",
       "..       ...       ...         ...  \n",
       "608   31.769   35.2163          IL  \n",
       "609  14.1953   120.877          PH  \n",
       "610 -18.1416   178.441          FJ  \n",
       "611  18.4554  -69.9454          DO  \n",
       "612  33.9137  -98.4934          US  \n",
       "\n",
       "[613 rows x 5 columns]"
      ]
     },
     "execution_count": 14,
     "metadata": {},
     "output_type": "execute_result"
    }
   ],
   "source": [
    "df3.join(dfLocation)"
   ]
  }
 ],
 "metadata": {
  "kernelspec": {
   "display_name": "Python 3",
   "language": "python",
   "name": "python3"
  },
  "language_info": {
   "codemirror_mode": {
    "name": "ipython",
    "version": 3
   },
   "file_extension": ".py",
   "mimetype": "text/x-python",
   "name": "python",
   "nbconvert_exporter": "python",
   "pygments_lexer": "ipython3",
   "version": "3.7.5"
  }
 },
 "nbformat": 4,
 "nbformat_minor": 4
}
